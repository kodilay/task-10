{
 "cells": [
  {
   "cell_type": "markdown",
   "id": "4860a02b",
   "metadata": {},
   "source": [
    "# Davies-Bouldin İndeksi (DBI)\n",
    "\n",
    "Davies-Bouldin indeksi, kümelerin sıkılığını ve ayrışmasını ölçen bir metriktir. Değer düştükçe kümeleme kalitesi artar."
   ]
  },
  {
   "cell_type": "markdown",
   "id": "21526c7c",
   "metadata": {},
   "source": [
    "## Uygulama Adımları\n",
    "\n",
    "1. Kütüphaneleri yükle  \n",
    "2. Rastgele veri oluştur  \n",
    "3. Veri dağılımını görselleştir  \n",
    "4. Üç farklı ölçekleyici (Standard, MinMax, Robust) ile veriyi ölçekle  \n",
    "5. KMeans ile k=2–8 arasındaki değerler için kümeleme yap  \n",
    "6. Davies-Bouldin skorlarını hesapla  \n",
    "7. Farklı ölçekleyicileri kıyasla ve sonuçları yorumla"
   ]
  },
  {
   "cell_type": "code",
   "execution_count": 5,
   "id": "5a7fdc41",
   "metadata": {},
   "outputs": [],
   "source": [
    "import numpy as np\n",
    "import matplotlib.pyplot as plt\n",
    "from sklearn.datasets import make_blobs\n",
    "from sklearn.cluster import KMeans\n",
    "from sklearn.preprocessing import StandardScaler, MinMaxScaler, RobustScaler\n",
    "from sklearn.metrics import davies_bouldin_score"
   ]
  },
  {
   "cell_type": "code",
   "execution_count": null,
   "id": "8e106469-22a2-454b-8bd7-671a633b2e31",
   "metadata": {},
   "outputs": [],
   "source": [
    "# Veri oluşturma\n",
    "X, _ = make_blobs(n_samples=300, centers=4, cluster_std=0.60, random_state=42)\n",
    "\n",
    "# Orijinal dağılım\n",
    "plt.scatter(X[:,0], X[:,1], s=20)\n",
    "plt.title('Orijinal Veri Dağılımı')\n",
    "plt.show()"
   ]
  },
  {
   "cell_type": "code",
   "execution_count": null,
   "id": "09cb8af3-6b8a-4f73-884f-1e0c515f4352",
   "metadata": {},
   "outputs": [],
   "source": [
    "# Ölçekleyiciler\n",
    "scalers = {\n",
    "    'Standard': StandardScaler(),\n",
    "    'MinMax': MinMaxScaler(),\n",
    "    'Robust': RobustScaler()\n",
    "}\n",
    "results = {}\n"
   ]
  },
  {
   "cell_type": "code",
   "execution_count": null,
   "id": "27f3670b-bb29-43af-bc46-25fc041aef98",
   "metadata": {},
   "outputs": [],
   "source": [
    "# DBI hesaplama\n",
    "for name, scaler in scalers.items():\n",
    "    X_scaled = scaler.fit_transform(X)\n",
    "    dbi_scores = []\n",
    "    for k in range(2, 9):\n",
    "        km = KMeans(n_clusters=k, random_state=42)\n",
    "        labels = km.fit_predict(X_scaled)\n",
    "        dbi = davies_bouldin_score(X_scaled, labels)\n",
    "        dbi_scores.append(dbi)\n",
    "        print(f\"{name}Scaler | k={k}: DBI={dbi:.3f}\")\n",
    "    results[name] = dbi_scores"
   ]
  },
  {
   "cell_type": "code",
   "execution_count": null,
   "id": "0ac6db5a-28bf-4391-87b2-298abe9e92f4",
   "metadata": {},
   "outputs": [],
   "source": [
    "# Grafikleri çizme\n",
    "ks = list(range(2,9))\n",
    "plt.figure()\n",
    "for name, scores in results.items():\n",
    "    plt.plot(ks, scores, marker='o', label=name)\n",
    "plt.xticks(ks)\n",
    "plt.title('Ölçekleyici Bazlı DBI Karşılaştırma')\n",
    "plt.xlabel('Küme Sayısı (k)')\n",
    "plt.ylabel('DBI Değeri')\n",
    "plt.legend()\n",
    "plt.grid(True)\n",
    "plt.show()"
   ]
  }
 ],
 "metadata": {
  "kernelspec": {
   "display_name": "Python [conda env:base] *",
   "language": "python",
   "name": "conda-base-py"
  },
  "language_info": {
   "codemirror_mode": {
    "name": "ipython",
    "version": 3
   },
   "file_extension": ".py",
   "mimetype": "text/x-python",
   "name": "python",
   "nbconvert_exporter": "python",
   "pygments_lexer": "ipython3",
   "version": "3.12.7"
  }
 },
 "nbformat": 4,
 "nbformat_minor": 5
}
